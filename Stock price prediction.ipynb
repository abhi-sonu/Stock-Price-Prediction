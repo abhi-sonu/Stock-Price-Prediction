{
 "cells": [
  {
   "cell_type": "code",
   "execution_count": null,
   "metadata": {},
   "outputs": [],
   "source": [
    "import pandas as pd\n",
    "import numpy as np\n",
    "import matplotlib.pyplot as plt\n",
    "%matplotlib inline\n",
    "\n",
    "import chart_studio.plotly as py\n",
    "import plotly.graph_objs as go\n",
    "from plotly.offline import plot\n",
    "\n",
    "# for offline plotting\n",
    "from plotly.offline import download_plotlyjs, init_notebook_mode, plot, iplot\n",
    "init_notebook_mode(connected=True) "
   ]
  },
  {
   "cell_type": "code",
   "execution_count": null,
   "metadata": {},
   "outputs": [],
   "source": [
    "tcs = pd.read_csv(r'C:\\Users\\Puneet Goyal\\Downloads\\projects vs\\tcs.csv')\n",
    "tcs.head()"
   ]
  },
  {
   "cell_type": "code",
   "execution_count": null,
   "metadata": {},
   "outputs": [],
   "source": [
    "tcs.isnull().any"
   ]
  },
  {
   "cell_type": "code",
   "execution_count": null,
   "metadata": {},
   "outputs": [],
   "source": [
    "tcs.dropna(inplace=True)\n",
    "print(tcs)"
   ]
  },
  {
   "cell_type": "code",
   "execution_count": null,
   "metadata": {},
   "outputs": [],
   "source": [
    "tcs.info()"
   ]
  },
  {
   "cell_type": "code",
   "execution_count": null,
   "metadata": {},
   "outputs": [],
   "source": [
    "tcs['Date'] = pd.to_datetime(tcs['Date'])              # converts date as a datetime from string."
   ]
  },
  {
   "cell_type": "code",
   "execution_count": null,
   "metadata": {},
   "outputs": [],
   "source": [
    "print(f'Dataframe contains stock prices between {tcs.Date.min()} {tcs.Date.max()}') \n",
    "print(f'Total days = {(tcs.Date.max()  - tcs.Date.min()).days} days')"
   ]
  },
  {
   "cell_type": "code",
   "execution_count": null,
   "metadata": {},
   "outputs": [],
   "source": [
    "tcs.iloc[:,1:].describe()"
   ]
  },
  {
   "cell_type": "code",
   "execution_count": null,
   "metadata": {},
   "outputs": [],
   "source": [
    "tcs.iloc[:,1:-1].plot(kind='box')"
   ]
  },
  {
   "cell_type": "code",
   "execution_count": null,
   "metadata": {},
   "outputs": [],
   "source": [
    "# Setting the layout for our plot\n",
    "layout = go.Layout(\n",
    "    title='Stock Prices of TCS',\n",
    "    xaxis=dict(\n",
    "        title='Date',\n",
    "        titlefont=dict(\n",
    "            family='Calibri',\n",
    "            size=20,\n",
    "            color='#000000'\n",
    "        )\n",
    "    ),\n",
    "    yaxis=dict(\n",
    "        title='Price',\n",
    "        titlefont=dict(\n",
    "            family='Calibri',\n",
    "            size=20,\n",
    "            color='#000000'\n",
    "        )\n",
    "    )\n",
    ")\n",
    "\n",
    "tcs_data = [{'x':tcs['Date'], 'y':tcs['Close']}]\n",
    "plot = go.Figure(data=tcs_data, layout=layout)"
   ]
  },
  {
   "cell_type": "code",
   "execution_count": null,
   "metadata": {},
   "outputs": [],
   "source": [
    "#plot(plot) #plotting offline\n",
    "iplot(plot)"
   ]
  },
  {
   "cell_type": "code",
   "execution_count": null,
   "metadata": {},
   "outputs": [],
   "source": [
    "# Building the regression model\n",
    "from sklearn.model_selection import train_test_split\n",
    "\n",
    "#For preprocessing\n",
    "from sklearn.preprocessing import MinMaxScaler\n",
    "from sklearn.preprocessing import StandardScaler\n",
    "\n",
    "#For model evaluation\n",
    "from sklearn.metrics import mean_squared_error as mse\n",
    "from sklearn.metrics import r2_score"
   ]
  },
  {
   "cell_type": "code",
   "execution_count": null,
   "metadata": {},
   "outputs": [],
   "source": [
    "#Split the data into train and test sets\n",
    "X = np.array(tcs.index).reshape(-1,1)\n",
    "Y = tcs['Close']\n",
    "X_train, X_test, Y_train, Y_test = train_test_split(X, Y, test_size=0.3, random_state=101)"
   ]
  },
  {
   "cell_type": "code",
   "execution_count": null,
   "metadata": {},
   "outputs": [],
   "source": [
    "# Feature scaling\n",
    "scaler = StandardScaler().fit(X_train)"
   ]
  },
  {
   "cell_type": "code",
   "execution_count": null,
   "metadata": {},
   "outputs": [],
   "source": [
    "from sklearn.linear_model import LinearRegression"
   ]
  },
  {
   "cell_type": "code",
   "execution_count": null,
   "metadata": {},
   "outputs": [],
   "source": [
    "#Creating a linear model\n",
    "lm = LinearRegression()\n",
    "lm.fit(X_train, Y_train)"
   ]
  },
  {
   "cell_type": "code",
   "execution_count": null,
   "metadata": {},
   "outputs": [],
   "source": [
    "#Plot actual and predicted values for train dataset\n",
    "trace0 = go.Scatter(\n",
    "    x = X_train.T[0],\n",
    "    y = Y_train,\n",
    "    mode = 'markers',\n",
    "    name = 'Actual'\n",
    ")\n",
    "trace1 = go.Scatter(\n",
    "    x = X_train.T[0],\n",
    "    y = lm.predict(X_train).T,\n",
    "    mode = 'lines',\n",
    "    name = 'Predicted'\n",
    ")\n",
    "tcs_data = [trace0,trace1]\n",
    "layout.xaxis.title.text = 'Day'\n",
    "plot2 = go.Figure(data=tcs_data, layout=layout)"
   ]
  },
  {
   "cell_type": "code",
   "execution_count": null,
   "metadata": {},
   "outputs": [],
   "source": [
    "iplot(plot2)"
   ]
  },
  {
   "cell_type": "code",
   "execution_count": null,
   "metadata": {},
   "outputs": [],
   "source": [
    "#Calculate scores for model evaluation\n",
    "scores = f'''\n",
    "{'Metric'.ljust(10)}{'Train'.center(20)}{'Test'.center(20)}\n",
    "{'r2_score'.ljust(10)}{r2_score(Y_train, lm.predict(X_train))}\\t{r2_score(Y_test, lm.predict(X_test))}\n",
    "{'MSE'.ljust(10)}{mse(Y_train, lm.predict(X_train))}\\t{mse(Y_test, lm.predict(X_test))}\n",
    "'''\n",
    "print(scores)"
   ]
  },
  {
   "cell_type": "code",
   "execution_count": null,
   "metadata": {},
   "outputs": [],
   "source": []
  }
 ],
 "metadata": {
  "kernelspec": {
   "display_name": "Python 3",
   "language": "python",
   "name": "python3"
  },
  "language_info": {
   "codemirror_mode": {
    "name": "ipython",
    "version": 3
   },
   "file_extension": ".py",
   "mimetype": "text/x-python",
   "name": "python",
   "nbconvert_exporter": "python",
   "pygments_lexer": "ipython3",
   "version": "3.10.5"
  }
 },
 "nbformat": 4,
 "nbformat_minor": 4
}
